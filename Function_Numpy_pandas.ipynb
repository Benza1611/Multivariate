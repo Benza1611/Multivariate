{
  "nbformat": 4,
  "nbformat_minor": 0,
  "metadata": {
    "colab": {
      "name": "Function_Numpy_pandas.ipynb",
      "provenance": [],
      "authorship_tag": "ABX9TyPJNWFmxeruCNuqZcT2KFdq",
      "include_colab_link": true
    },
    "kernelspec": {
      "name": "python3",
      "display_name": "Python 3"
    }
  },
  "cells": [
    {
      "cell_type": "markdown",
      "metadata": {
        "id": "view-in-github",
        "colab_type": "text"
      },
      "source": [
        "<a href=\"https://colab.research.google.com/github/Benza1611/Multivariate/blob/main/Function_Numpy_pandas.ipynb\" target=\"_parent\"><img src=\"https://colab.research.google.com/assets/colab-badge.svg\" alt=\"Open In Colab\"/></a>"
      ]
    },
    {
      "cell_type": "markdown",
      "metadata": {
        "id": "lc6vRCu7SQdr"
      },
      "source": [
        "#Function"
      ]
    },
    {
      "cell_type": "markdown",
      "metadata": {
        "id": "AVQ19a6pgCTJ"
      },
      "source": [
        "![image.png](data:image/png;base64,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)"
      ]
    },
    {
      "cell_type": "markdown",
      "metadata": {
        "id": "iyFMTX0hS4G8"
      },
      "source": [
        "```python\r\n",
        "def function_name(_Input_):\r\n",
        "    do_something with _Input_ to produce _Output_\r\n",
        "    return _Output_\r\n",
        "```\r\n",
        "\r\n",
        "\r\n"
      ]
    },
    {
      "cell_type": "markdown",
      "metadata": {
        "id": "mgREkh1LVdsu"
      },
      "source": [
        "##function มีส่วนสำคัญทั้งหมด 4 ส่วน\r\n",
        "\r\n",
        "1. บอก python ว่าเราจะเขียนฟังก์ชั่น ชื่ออะไร def function_name(): (ขาดไม่ได้)\r\n",
        "2.กำหนดตัวแปรที่จะเป็น Input Input (ขาดได้)\r\n",
        "3.ส่วนประมวลผล do_something with Input to get Output (ขาดไม่ได้)\r\n",
        "4.ส่วน Output return Output (ขาดได้)\r\n",
        "\r\n",
        "เราใช้เว้นวรรค (index) เพื่อบอกขอบเขตของ code"
      ]
    },
    {
      "cell_type": "code",
      "metadata": {
        "colab": {
          "base_uri": "https://localhost:8080/"
        },
        "id": "CEgi1rqASDSg",
        "outputId": "b2546a9c-1ad3-4091-df5a-158899236ee7"
      },
      "source": [
        "def print_name(name,surname,ID): #Input สามารถมีกี่ตัวก็ได้หรือไม่มีก็ได้\r\n",
        "    st = f'ชื่อ {name} นามสกุล {surname}   รหัส {ID}'\r\n",
        "    return st\r\n",
        "print('outside function')\r\n"
      ],
      "execution_count": null,
      "outputs": [
        {
          "output_type": "stream",
          "text": [
            "outside function\n"
          ],
          "name": "stdout"
        }
      ]
    },
    {
      "cell_type": "markdown",
      "metadata": {
        "id": "-JHmoqaHWdsS"
      },
      "source": [
        "เรียกใช้ฟังก์ชั่น"
      ]
    },
    {
      "cell_type": "code",
      "metadata": {
        "colab": {
          "base_uri": "https://localhost:8080/",
          "height": 35
        },
        "id": "3Vj3tJTwVbF8",
        "outputId": "ef030f40-c714-4d1f-eb43-9117dfba8a4f"
      },
      "source": [
        "print_name('เบญญาภา','ระภูเขียว','623020527-6')"
      ],
      "execution_count": null,
      "outputs": [
        {
          "output_type": "execute_result",
          "data": {
            "application/vnd.google.colaboratory.intrinsic+json": {
              "type": "string"
            },
            "text/plain": [
              "'ชื่อ เบญญาภา นามสกุล ระภูเขียว   รหัส 623020527-6'"
            ]
          },
          "metadata": {
            "tags": []
          },
          "execution_count": 3
        }
      ]
    },
    {
      "cell_type": "code",
      "metadata": {
        "colab": {
          "base_uri": "https://localhost:8080/",
          "height": 185
        },
        "id": "9sbIwE9AWv0z",
        "outputId": "cedc2037-acf6-47ff-8d95-11edf8d79d61"
      },
      "source": [
        "output_string = print_name('เบญญาภา','ระภูเขียว','623020527-6')\r\n",
        "print(output_string)"
      ],
      "execution_count": 1,
      "outputs": [
        {
          "output_type": "error",
          "ename": "NameError",
          "evalue": "ignored",
          "traceback": [
            "\u001b[0;31m---------------------------------------------------------------------------\u001b[0m",
            "\u001b[0;31mNameError\u001b[0m                                 Traceback (most recent call last)",
            "\u001b[0;32m<ipython-input-1-435ed7bd0d9c>\u001b[0m in \u001b[0;36m<module>\u001b[0;34m()\u001b[0m\n\u001b[0;32m----> 1\u001b[0;31m \u001b[0moutput_string\u001b[0m \u001b[0;34m=\u001b[0m \u001b[0mprint_name\u001b[0m\u001b[0;34m(\u001b[0m\u001b[0;34m'เบญญาภา'\u001b[0m\u001b[0;34m,\u001b[0m\u001b[0;34m'ระภูเขียว'\u001b[0m\u001b[0;34m,\u001b[0m\u001b[0;34m'623020527-6'\u001b[0m\u001b[0;34m)\u001b[0m\u001b[0;34m\u001b[0m\u001b[0;34m\u001b[0m\u001b[0m\n\u001b[0m\u001b[1;32m      2\u001b[0m \u001b[0mprint\u001b[0m\u001b[0;34m(\u001b[0m\u001b[0moutput_string\u001b[0m\u001b[0;34m)\u001b[0m\u001b[0;34m\u001b[0m\u001b[0;34m\u001b[0m\u001b[0m\n",
            "\u001b[0;31mNameError\u001b[0m: name 'print_name' is not defined"
          ]
        }
      ]
    },
    {
      "cell_type": "markdown",
      "metadata": {
        "id": "YcUjjVQdXlTz"
      },
      "source": [
        "ฟังก์ชั่นไม่จำเป็นต้องมี output"
      ]
    },
    {
      "cell_type": "code",
      "metadata": {
        "id": "b8PmTaZdXjeI"
      },
      "source": [
        "def print_name2(surname,ID,name):\r\n",
        "    st = f'ชื่อ {name} นามสกุล {surname} รหัส {ID}'\r\n",
        "    print(st)"
      ],
      "execution_count": 2,
      "outputs": []
    },
    {
      "cell_type": "code",
      "metadata": {
        "colab": {
          "base_uri": "https://localhost:8080/"
        },
        "id": "Mhh_G-0_YKVg",
        "outputId": "86266cd5-039b-4067-d6b1-88dcb7c6a4e4"
      },
      "source": [
        "print_name2('เบญญาภา','ระภูเขียว','623020527-6')"
      ],
      "execution_count": 3,
      "outputs": [
        {
          "output_type": "stream",
          "text": [
            "ชื่อ 623020527-6 นามสกุล เบญญาภา รหัส ระภูเขียว\n"
          ],
          "name": "stdout"
        }
      ]
    },
    {
      "cell_type": "code",
      "metadata": {
        "colab": {
          "base_uri": "https://localhost:8080/"
        },
        "id": "kK9jFpQ1Yj7V",
        "outputId": "f7fe6e39-4197-4771-d2d1-930789b33d53"
      },
      "source": [
        "op2 = print_name2('เบญญาภา','ระภูเขียว','623020527-6')"
      ],
      "execution_count": 4,
      "outputs": [
        {
          "output_type": "stream",
          "text": [
            "ชื่อ 623020527-6 นามสกุล เบญญาภา รหัส ระภูเขียว\n"
          ],
          "name": "stdout"
        }
      ]
    },
    {
      "cell_type": "code",
      "metadata": {
        "colab": {
          "base_uri": "https://localhost:8080/"
        },
        "id": "okmm3qErYqrM",
        "outputId": "3d3f8198-e095-474c-9d3c-dad0e1247a03"
      },
      "source": [
        "print(op2)"
      ],
      "execution_count": 5,
      "outputs": [
        {
          "output_type": "stream",
          "text": [
            "None\n"
          ],
          "name": "stdout"
        }
      ]
    },
    {
      "cell_type": "markdown",
      "metadata": {
        "id": "KHUfHmPyZEXS"
      },
      "source": [
        "ฟังก์ชั่นไม่จำเป็นต้องมี Input"
      ]
    },
    {
      "cell_type": "code",
      "metadata": {
        "id": "YiZ4H4fFYtKe"
      },
      "source": [
        "def Pi():\r\n",
        "    return 3.14159265359"
      ],
      "execution_count": 6,
      "outputs": []
    },
    {
      "cell_type": "code",
      "metadata": {
        "colab": {
          "base_uri": "https://localhost:8080/"
        },
        "id": "zTasHp90ZWT3",
        "outputId": "964c88b2-4f06-4c12-ce24-1314acede474"
      },
      "source": [
        "#คำนวนพื้นที่วงกลมที่มีเส้นผ่าศูนย์กลางเท่ากับ 3\r\n",
        "Pi()*(1.5**2)"
      ],
      "execution_count": 7,
      "outputs": [
        {
          "output_type": "execute_result",
          "data": {
            "text/plain": [
              "7.0685834705775"
            ]
          },
          "metadata": {
            "tags": []
          },
          "execution_count": 7
        }
      ]
    },
    {
      "cell_type": "code",
      "metadata": {
        "id": "-sN6_Z35ZlP2"
      },
      "source": [
        "def print_my_name():\r\n",
        "    print('เบญญาภา ระภูเขียว 623020527-6')"
      ],
      "execution_count": 8,
      "outputs": []
    },
    {
      "cell_type": "code",
      "metadata": {
        "colab": {
          "base_uri": "https://localhost:8080/"
        },
        "id": "SsnEUZo6Z31j",
        "outputId": "cd183912-6602-4ccf-bbcf-135600c11c82"
      },
      "source": [
        "print_my_name()"
      ],
      "execution_count": 9,
      "outputs": [
        {
          "output_type": "stream",
          "text": [
            "เบญญาภา ระภูเขียว 623020527-6\n"
          ],
          "name": "stdout"
        }
      ]
    },
    {
      "cell_type": "markdown",
      "metadata": {
        "id": "x2nWHoszaGuG"
      },
      "source": [
        "## 1. input ของ function ใน python มีสองแบบ input ที่จำเป็นต้องใส่ กับ input ที่ไม่จำเป็นต้องใส่ (มีค่า default) \r\n",
        "##2.เราต้องเรียง input ที่จำเป็นต้องใส่ขึ้นก่อน"
      ]
    },
    {
      "cell_type": "code",
      "metadata": {
        "id": "OaiXysUDZ9AC"
      },
      "source": [
        "def print_2lines_default(name,surname,ID,grade='F'):\r\n",
        "    st = f'ชื่อ {name} นามสกุล {surname} รหัส {ID}'\r\n",
        "    print(st)\r\n",
        "    st2 = f'เกรดวิชา Multivariate >> {grade}'\r\n",
        "    print(st2)"
      ],
      "execution_count": 10,
      "outputs": []
    },
    {
      "cell_type": "code",
      "metadata": {
        "colab": {
          "base_uri": "https://localhost:8080/"
        },
        "id": "bNssU_8qbkgH",
        "outputId": "ae84ddc2-c913-4286-e617-e53358cce641"
      },
      "source": [
        "print_2lines_default('เบญญาภา','ระภูเขียว','623020527-6')"
      ],
      "execution_count": 11,
      "outputs": [
        {
          "output_type": "stream",
          "text": [
            "ชื่อ เบญญาภา นามสกุล ระภูเขียว รหัส 623020527-6\n",
            "เกรดวิชา Multivariate >> F\n"
          ],
          "name": "stdout"
        }
      ]
    },
    {
      "cell_type": "code",
      "metadata": {
        "colab": {
          "base_uri": "https://localhost:8080/"
        },
        "id": "fzsOFp6UcJzX",
        "outputId": "63bba8f8-8ccc-4f2d-c9ae-b73462101aab"
      },
      "source": [
        "print_2lines_default('เบญญาภา','ระภูเขียว','623020527-6','A')"
      ],
      "execution_count": 12,
      "outputs": [
        {
          "output_type": "stream",
          "text": [
            "ชื่อ เบญญาภา นามสกุล ระภูเขียว รหัส 623020527-6\n",
            "เกรดวิชา Multivariate >> A\n"
          ],
          "name": "stdout"
        }
      ]
    },
    {
      "cell_type": "markdown",
      "metadata": {
        "id": "xP-iymXLcUxm"
      },
      "source": [
        "เราสามารถเรียกฟังก์ชั่นโดยใช้ชื่อตัวแปรของฟังก์ชั่นช่วยได้"
      ]
    },
    {
      "cell_type": "code",
      "metadata": {
        "colab": {
          "base_uri": "https://localhost:8080/"
        },
        "id": "0BUEay6ScTC_",
        "outputId": "5afc5a3f-a247-472b-b20f-f5dff7bc6793"
      },
      "source": [
        "print_name2(name='เบญญาภา',surname='ระภูเขียว',ID='623020527-6')"
      ],
      "execution_count": 13,
      "outputs": [
        {
          "output_type": "stream",
          "text": [
            "ชื่อ เบญญาภา นามสกุล ระภูเขียว รหัส 623020527-6\n"
          ],
          "name": "stdout"
        }
      ]
    },
    {
      "cell_type": "markdown",
      "metadata": {
        "id": "scfyvbKSc4PM"
      },
      "source": [
        "#HW3 ให้เขียน function คำนวนจำนวนวินาทีจาก เวลาต่อไปนี้\r\n",
        "\r\n",
        "'14-15-31'\r\n",
        "\r\n",
        "'13-00-01'\r\n",
        "\r\n",
        "'05-49-44'\r\n",
        "\r\n",
        "'00-00-16'\r\n",
        "\r\n",
        "และ print ให้สวยงาม"
      ]
    },
    {
      "cell_type": "code",
      "metadata": {
        "id": "p3Pm6yDawxN3"
      },
      "source": [
        ""
      ],
      "execution_count": 13,
      "outputs": []
    },
    {
      "cell_type": "markdown",
      "metadata": {
        "id": "6ulN_IjNsliq"
      },
      "source": [
        "#ตอบ"
      ]
    },
    {
      "cell_type": "code",
      "metadata": {
        "id": "AlJ_6Eucy0au"
      },
      "source": [
        "def function_time(time):\r\n",
        "    st = time.split('-')\r\n",
        "    answer = int(st[0]) * 3600 + int(st[1]) * 60 +int(st[2])\r\n",
        "    print(f'เวลา {time} คำนวนเป็นจำนวนวินาทีได้เท่ากับ {answer} วินาที ')"
      ],
      "execution_count": 14,
      "outputs": []
    },
    {
      "cell_type": "code",
      "metadata": {
        "id": "3q8pUwGs0LfR",
        "colab": {
          "base_uri": "https://localhost:8080/"
        },
        "outputId": "53182344-ff06-49b3-84bc-f24dbe8cceba"
      },
      "source": [
        "function_time('14-15-31')"
      ],
      "execution_count": 15,
      "outputs": [
        {
          "output_type": "stream",
          "text": [
            "เวลา 14-15-31 คำนวนเป็นจำนวนวินาทีได้เท่ากับ 51331 วินาที \n"
          ],
          "name": "stdout"
        }
      ]
    },
    {
      "cell_type": "code",
      "metadata": {
        "id": "qtOZ-_2P0WfE",
        "colab": {
          "base_uri": "https://localhost:8080/"
        },
        "outputId": "b6a5849c-23e3-4779-a83d-075ed0fb5ebc"
      },
      "source": [
        "function_time('13-00-01')"
      ],
      "execution_count": 16,
      "outputs": [
        {
          "output_type": "stream",
          "text": [
            "เวลา 13-00-01 คำนวนเป็นจำนวนวินาทีได้เท่ากับ 46801 วินาที \n"
          ],
          "name": "stdout"
        }
      ]
    },
    {
      "cell_type": "code",
      "metadata": {
        "id": "Rif1yYFW0uZE",
        "colab": {
          "base_uri": "https://localhost:8080/"
        },
        "outputId": "7201bee2-ec59-47a9-c830-48ce07edb3e2"
      },
      "source": [
        "function_time('05-49-44')"
      ],
      "execution_count": 17,
      "outputs": [
        {
          "output_type": "stream",
          "text": [
            "เวลา 05-49-44 คำนวนเป็นจำนวนวินาทีได้เท่ากับ 20984 วินาที \n"
          ],
          "name": "stdout"
        }
      ]
    },
    {
      "cell_type": "code",
      "metadata": {
        "id": "6t8NxrF600uY",
        "colab": {
          "base_uri": "https://localhost:8080/"
        },
        "outputId": "c6aa6524-3dc4-40ac-e84b-2baf191c907e"
      },
      "source": [
        "function_time('00-00-16')"
      ],
      "execution_count": 18,
      "outputs": [
        {
          "output_type": "stream",
          "text": [
            "เวลา 00-00-16 คำนวนเป็นจำนวนวินาทีได้เท่ากับ 16 วินาที \n"
          ],
          "name": "stdout"
        }
      ]
    },
    {
      "cell_type": "markdown",
      "metadata": {
        "id": "UNJCJADVRqTS"
      },
      "source": [
        "#Nunpy -> package สำหรับการจัดการเกี่ยวกับ Array ที่เป็นตัวเลข (Matrix)\r\n",
        "\r\n",
        "Num + py -> Number-Numerical + python\r\n",
        "\r\n",
        "การใช้ package \r\n",
        "1. ```import``` ```ชื่อpackage``` #เรียกใช้package\r\n",
        "2.```ชื่อ package```.```import``` #เรียกใช้ฟังก์ชัน\r\n",
        "\r\n",
        "\r\n",
        "\r\n",
        "\r\n",
        "\r\n",
        "\r\n",
        "\r\n"
      ]
    },
    {
      "cell_type": "code",
      "metadata": {
        "id": "UVISLctcW01G"
      },
      "source": [
        "import numpy"
      ],
      "execution_count": 22,
      "outputs": []
    },
    {
      "cell_type": "markdown",
      "metadata": {
        "id": "pPohT10RUEh5"
      },
      "source": [
        "Data structure -> array"
      ]
    },
    {
      "cell_type": "markdown",
      "metadata": {
        "id": "pigOG-I9UL_l"
      },
      "source": [
        "สร้าง array (numpy array)"
      ]
    },
    {
      "cell_type": "code",
      "metadata": {
        "id": "nNbCDrInUC-V",
        "outputId": "629d4aa4-485f-4a74-8cca-012ebeb92633",
        "colab": {
          "base_uri": "https://localhost:8080/"
        }
      },
      "source": [
        "mat_ex1 = numpy.array([[5.2,3.0,4.5],[9.1,0.1,0.3]])\r\n",
        "print(mat_ex1)"
      ],
      "execution_count": 23,
      "outputs": [
        {
          "output_type": "stream",
          "text": [
            "[[5.2 3.  4.5]\n",
            " [9.1 0.1 0.3]]\n"
          ],
          "name": "stdout"
        }
      ]
    },
    {
      "cell_type": "markdown",
      "metadata": {
        "id": "QWEE9Ig4U4KX"
      },
      "source": [
        "ชี้คำใน numpr array"
      ]
    },
    {
      "cell_type": "code",
      "metadata": {
        "id": "_8GOrKjHU-oN",
        "outputId": "13e27e81-ef1a-45a9-91d8-306d42b17004",
        "colab": {
          "base_uri": "https://localhost:8080/"
        }
      },
      "source": [
        "mat_ex1[1,1] #[แถว,หลัก]"
      ],
      "execution_count": 27,
      "outputs": [
        {
          "output_type": "execute_result",
          "data": {
            "text/plain": [
              "0.1"
            ]
          },
          "metadata": {
            "tags": []
          },
          "execution_count": 27
        }
      ]
    },
    {
      "cell_type": "markdown",
      "metadata": {
        "id": "YDs3pOGzVyJw"
      },
      "source": [
        "ถ้าไม่มี numpy array "
      ]
    },
    {
      "cell_type": "code",
      "metadata": {
        "id": "gfGd5qkvVwX_",
        "outputId": "de25a2ca-91be-47d6-cf7c-8db239c36550",
        "colab": {
          "base_uri": "https://localhost:8080/"
        }
      },
      "source": [
        "list_ex1 = [[5.2,3.0,4.5],[9.1,0.1,0.3]]\r\n",
        "print(list_ex1)"
      ],
      "execution_count": 25,
      "outputs": [
        {
          "output_type": "stream",
          "text": [
            "[[5.2, 3.0, 4.5], [9.1, 0.1, 0.3]]\n"
          ],
          "name": "stdout"
        }
      ]
    },
    {
      "cell_type": "code",
      "metadata": {
        "id": "J-Y7AFMLVwPp",
        "outputId": "fe656fcc-292a-4273-d57e-8062cf66541c",
        "colab": {
          "base_uri": "https://localhost:8080/"
        }
      },
      "source": [
        "list_ex1[1][1]"
      ],
      "execution_count": 29,
      "outputs": [
        {
          "output_type": "execute_result",
          "data": {
            "text/plain": [
              "0.1"
            ]
          },
          "metadata": {
            "tags": []
          },
          "execution_count": 29
        }
      ]
    },
    {
      "cell_type": "code",
      "metadata": {
        "id": "6jdkPZLeVwCS",
        "outputId": "1e285b28-edd7-47b3-a5b8-2c278d63247a",
        "colab": {
          "base_uri": "https://localhost:8080/"
        }
      },
      "source": [
        "print(list_ex1)\r\n",
        "a = list_ex1[1]\r\n",
        "print(a)\r\n",
        "print(a[1])"
      ],
      "execution_count": 31,
      "outputs": [
        {
          "output_type": "stream",
          "text": [
            "[[5.2, 3.0, 4.5], [9.1, 0.1, 0.3]]\n",
            "[9.1, 0.1, 0.3]\n",
            "0.1\n"
          ],
          "name": "stdout"
        }
      ]
    },
    {
      "cell_type": "markdown",
      "metadata": {
        "id": "nx4FrjQbX77U"
      },
      "source": [
        "#Matrix Operations\r\n",
        "\r\n",
        "data 2 แบบ -> matrix(2D array) , scala (ตัวเลขค่าคงที่)"
      ]
    },
    {
      "cell_type": "code",
      "metadata": {
        "id": "WlfdzUMdVvtq",
        "outputId": "bd1ab3c9-5963-4554-bac1-7eda2eb39204",
        "colab": {
          "base_uri": "https://localhost:8080/"
        }
      },
      "source": [
        "mat_ex1 = numpy.array([[5.2,3.0,4.5],[9.1,0.1,0.3]])\r\n",
        "print(mat_ex1)\r\n",
        "mat_ex2 = numpy.array([[2,3.7,5.9],[91,1.5,7.3]])\r\n",
        "print(mat_ex2)"
      ],
      "execution_count": 32,
      "outputs": [
        {
          "output_type": "stream",
          "text": [
            "[[5.2 3.  4.5]\n",
            " [9.1 0.1 0.3]]\n",
            "[[ 2.   3.7  5.9]\n",
            " [91.   1.5  7.3]]\n"
          ],
          "name": "stdout"
        }
      ]
    },
    {
      "cell_type": "markdown",
      "metadata": {
        "id": "XkIkhH_xZFxS"
      },
      "source": [
        "##บวกกับลบ matrix เอาตัวเลขตำแหน่งเดียวกันมาบวกกัน\r\n",
        "\r\n",
        "(หน้าตาของ matrix ต้องเหมือนกัน) "
      ]
    },
    {
      "cell_type": "code",
      "metadata": {
        "id": "4jEHabk_Zdg6",
        "outputId": "89bf3b90-4ae4-4a5a-c663-697896c6f164",
        "colab": {
          "base_uri": "https://localhost:8080/"
        }
      },
      "source": [
        "mat_ex0 = numpy.array([[1,2],[3,4]])\r\n",
        "print(mat_ex0)"
      ],
      "execution_count": 35,
      "outputs": [
        {
          "output_type": "stream",
          "text": [
            "[[1 2]\n",
            " [3 4]]\n"
          ],
          "name": "stdout"
        }
      ]
    },
    {
      "cell_type": "code",
      "metadata": {
        "id": "gzbr9Ye3YqPk",
        "outputId": "4f7f9de4-b419-42d3-8902-adf3545a1931",
        "colab": {
          "base_uri": "https://localhost:8080/"
        }
      },
      "source": [
        "mat_ex3 = mat_ex1 + mat_ex2 #เอาตัวเดียวกันมาบวกหรือลบกัน\r\n",
        "print(mat_ex3)\r\n",
        "mat_ex4 = mat_ex1 - mat_ex2 \r\n",
        "print(mat_ex4)"
      ],
      "execution_count": 34,
      "outputs": [
        {
          "output_type": "stream",
          "text": [
            "[[  7.2   6.7  10.4]\n",
            " [100.1   1.6   7.6]]\n",
            "[[  3.2  -0.7  -1.4]\n",
            " [-81.9  -1.4  -7. ]]\n"
          ],
          "name": "stdout"
        }
      ]
    },
    {
      "cell_type": "code",
      "metadata": {
        "id": "fmryUTaHZuqf",
        "outputId": "72c07a4c-a0ab-42f4-cbf3-d1d830b38117",
        "colab": {
          "base_uri": "https://localhost:8080/",
          "height": 167
        }
      },
      "source": [
        "mat_ex1 + mat_ex0 #ขนาดไม่เหมือนกัน"
      ],
      "execution_count": 37,
      "outputs": [
        {
          "output_type": "error",
          "ename": "ValueError",
          "evalue": "ignored",
          "traceback": [
            "\u001b[0;31m---------------------------------------------------------------------------\u001b[0m",
            "\u001b[0;31mValueError\u001b[0m                                Traceback (most recent call last)",
            "\u001b[0;32m<ipython-input-37-1e222c9c77ba>\u001b[0m in \u001b[0;36m<module>\u001b[0;34m()\u001b[0m\n\u001b[0;32m----> 1\u001b[0;31m \u001b[0mmat_ex1\u001b[0m \u001b[0;34m+\u001b[0m \u001b[0mmat_ex0\u001b[0m \u001b[0;31m#ขนาดไม่เหมือนกัน\u001b[0m\u001b[0;34m\u001b[0m\u001b[0;34m\u001b[0m\u001b[0m\n\u001b[0m",
            "\u001b[0;31mValueError\u001b[0m: operands could not be broadcast together with shapes (2,3) (2,2) "
          ]
        }
      ]
    },
    {
      "cell_type": "markdown",
      "metadata": {
        "id": "r5u4pXbAaL2e"
      },
      "source": [
        "การตรวจสอบขนาด matrix"
      ]
    },
    {
      "cell_type": "code",
      "metadata": {
        "id": "rsaXfJffYqJv",
        "outputId": "80ebc7e6-b6b3-4dac-de4a-63eab67722fd",
        "colab": {
          "base_uri": "https://localhost:8080/"
        }
      },
      "source": [
        "mat_ex3.shape"
      ],
      "execution_count": 38,
      "outputs": [
        {
          "output_type": "execute_result",
          "data": {
            "text/plain": [
              "(2, 3)"
            ]
          },
          "metadata": {
            "tags": []
          },
          "execution_count": 38
        }
      ]
    },
    {
      "cell_type": "code",
      "metadata": {
        "id": "_Lznr4pVafn5",
        "outputId": "f211ec26-8359-4d66-efff-05e2bd31b410",
        "colab": {
          "base_uri": "https://localhost:8080/"
        }
      },
      "source": [
        "mat_ex3.shape[0]"
      ],
      "execution_count": 39,
      "outputs": [
        {
          "output_type": "execute_result",
          "data": {
            "text/plain": [
              "2"
            ]
          },
          "metadata": {
            "tags": []
          },
          "execution_count": 39
        }
      ]
    },
    {
      "cell_type": "markdown",
      "metadata": {
        "id": "6x2OdZ5Va-gt"
      },
      "source": [
        "##คูณ matrix"
      ]
    },
    {
      "cell_type": "code",
      "metadata": {
        "id": "XIG5k5Lab6id",
        "outputId": "464a60dc-b1ed-49db-92f5-b0bcc225fdde",
        "colab": {
          "base_uri": "https://localhost:8080/"
        }
      },
      "source": [
        "print(mat_ex1)\r\n",
        "print(mat_ex2)"
      ],
      "execution_count": 40,
      "outputs": [
        {
          "output_type": "stream",
          "text": [
            "[[5.2 3.  4.5]\n",
            " [9.1 0.1 0.3]]\n",
            "[[ 2.   3.7  5.9]\n",
            " [91.   1.5  7.3]]\n"
          ],
          "name": "stdout"
        }
      ]
    },
    {
      "cell_type": "code",
      "metadata": {
        "id": "HJxbtw07bdyu",
        "outputId": "fd13e808-b2ce-43c7-c643-df829697ec89",
        "colab": {
          "base_uri": "https://localhost:8080/"
        }
      },
      "source": [
        "mat_ex1 * mat_ex2"
      ],
      "execution_count": 41,
      "outputs": [
        {
          "output_type": "execute_result",
          "data": {
            "text/plain": [
              "array([[1.040e+01, 1.110e+01, 2.655e+01],\n",
              "       [8.281e+02, 1.500e-01, 2.190e+00]])"
            ]
          },
          "metadata": {
            "tags": []
          },
          "execution_count": 41
        }
      ]
    },
    {
      "cell_type": "code",
      "metadata": {
        "id": "-zQYji6pafcn",
        "outputId": "91aefb02-3ddd-4671-b544-2c348bcc03d3",
        "colab": {
          "base_uri": "https://localhost:8080/",
          "height": 203
        }
      },
      "source": [
        "numpy.dot(mat_ex1,mat_ex2)"
      ],
      "execution_count": 42,
      "outputs": [
        {
          "output_type": "error",
          "ename": "ValueError",
          "evalue": "ignored",
          "traceback": [
            "\u001b[0;31m---------------------------------------------------------------------------\u001b[0m",
            "\u001b[0;31mValueError\u001b[0m                                Traceback (most recent call last)",
            "\u001b[0;32m<ipython-input-42-87326e5d09ab>\u001b[0m in \u001b[0;36m<module>\u001b[0;34m()\u001b[0m\n\u001b[0;32m----> 1\u001b[0;31m \u001b[0mnumpy\u001b[0m\u001b[0;34m.\u001b[0m\u001b[0mdot\u001b[0m\u001b[0;34m(\u001b[0m\u001b[0mmat_ex1\u001b[0m\u001b[0;34m,\u001b[0m\u001b[0mmat_ex2\u001b[0m\u001b[0;34m)\u001b[0m\u001b[0;34m\u001b[0m\u001b[0;34m\u001b[0m\u001b[0m\n\u001b[0m",
            "\u001b[0;32m<__array_function__ internals>\u001b[0m in \u001b[0;36mdot\u001b[0;34m(*args, **kwargs)\u001b[0m\n",
            "\u001b[0;31mValueError\u001b[0m: shapes (2,3) and (2,3) not aligned: 3 (dim 1) != 2 (dim 0)"
          ]
        }
      ]
    },
    {
      "cell_type": "markdown",
      "metadata": {
        "id": "NWUqV7VXeyDT"
      },
      "source": [
        "##การคูณ matrix (แถวคูณหลัก)\r\n",
        "(หลักของ matrix ตัวข้างหน้า ต้องเท่ากับแถวของ matrix ตัวข้างหลัง)\r\n",
        "\r\n",
        "dot product (AAA,x),(x,ZZZ) = (AAA,ZZZ)"
      ]
    },
    {
      "cell_type": "code",
      "metadata": {
        "id": "qKbb6uGGYqEY",
        "outputId": "6625f79d-2542-4f4e-ceb9-e1cb60a42e16",
        "colab": {
          "base_uri": "https://localhost:8080/"
        }
      },
      "source": [
        "print(mat_ex1)\r\n",
        "print(mat_ex1.shape)\r\n",
        "print(mat_ex2)\r\n",
        "print(mat_ex2.shape)"
      ],
      "execution_count": 43,
      "outputs": [
        {
          "output_type": "stream",
          "text": [
            "[[5.2 3.  4.5]\n",
            " [9.1 0.1 0.3]]\n",
            "(2, 3)\n",
            "[[ 2.   3.7  5.9]\n",
            " [91.   1.5  7.3]]\n",
            "(2, 3)\n"
          ],
          "name": "stdout"
        }
      ]
    },
    {
      "cell_type": "markdown",
      "metadata": {
        "id": "hJfGfNkJf8m0"
      },
      "source": [
        "#Transpose กลับแถวเป็นหลักกลับหลักเป็นแถว\r\n",
        "\r\n",
        "\r\n",
        "```matrix.T```\r\n",
        "\r\n"
      ]
    },
    {
      "cell_type": "code",
      "metadata": {
        "id": "OEECyXoxgS2v",
        "outputId": "25b8e469-a374-4193-8241-fd4f4b9bbdf3",
        "colab": {
          "base_uri": "https://localhost:8080/"
        }
      },
      "source": [
        "numpy.dot(mat_ex1,mat_ex2.T) #(2,3).(3.2)"
      ],
      "execution_count": 45,
      "outputs": [
        {
          "output_type": "execute_result",
          "data": {
            "text/plain": [
              "array([[ 48.05, 510.55],\n",
              "       [ 20.34, 830.44]])"
            ]
          },
          "metadata": {
            "tags": []
          },
          "execution_count": 45
        }
      ]
    },
    {
      "cell_type": "code",
      "metadata": {
        "id": "GS5URPOTgSz4",
        "outputId": "aec2a9cc-3494-4f33-cddb-c83a0667f330",
        "colab": {
          "base_uri": "https://localhost:8080/"
        }
      },
      "source": [
        "numpy.dot(mat_ex1.T,mat_ex2) #(3,2),(2,3)"
      ],
      "execution_count": 47,
      "outputs": [
        {
          "output_type": "execute_result",
          "data": {
            "text/plain": [
              "array([[838.5 ,  32.89,  97.11],\n",
              "       [ 15.1 ,  11.25,  18.43],\n",
              "       [ 36.3 ,  17.1 ,  28.74]])"
            ]
          },
          "metadata": {
            "tags": []
          },
          "execution_count": 47
        }
      ]
    },
    {
      "cell_type": "markdown",
      "metadata": {
        "id": "IDgBZOrai7sg"
      },
      "source": [
        "#HW4 อธิบายการหา Determinant และ Inverse Matrix (รูปและคำอธิบาย)"
      ]
    },
    {
      "cell_type": "code",
      "metadata": {
        "id": "zaBEndufgSwa"
      },
      "source": [
        ""
      ],
      "execution_count": null,
      "outputs": []
    },
    {
      "cell_type": "code",
      "metadata": {
        "id": "fBRL7IPTYp9g"
      },
      "source": [
        ""
      ],
      "execution_count": 38,
      "outputs": []
    },
    {
      "cell_type": "markdown",
      "metadata": {
        "id": "7dNVWjhMQKbA"
      },
      "source": [
        "#ไม่เรียน Pandas"
      ]
    },
    {
      "cell_type": "code",
      "metadata": {
        "id": "NzyZBWtS06Rq"
      },
      "source": [
        ""
      ],
      "execution_count": 38,
      "outputs": []
    }
  ]
}