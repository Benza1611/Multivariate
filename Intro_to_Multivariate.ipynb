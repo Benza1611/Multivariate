{
  "nbformat": 4,
  "nbformat_minor": 0,
  "metadata": {
    "colab": {
      "name": "Intro to Multivariate.ipynb",
      "provenance": [],
      "authorship_tag": "ABX9TyNi3HJM1RrRlgmwRwaUlPhJ",
      "include_colab_link": true
    },
    "kernelspec": {
      "name": "python3",
      "display_name": "Python 3"
    }
  },
  "cells": [
    {
      "cell_type": "markdown",
      "metadata": {
        "id": "view-in-github",
        "colab_type": "text"
      },
      "source": [
        "<a href=\"https://colab.research.google.com/github/Benza1611/Multivariate/blob/main/Intro_to_Multivariate.ipynb\" target=\"_parent\"><img src=\"https://colab.research.google.com/assets/colab-badge.svg\" alt=\"Open In Colab\"/></a>"
      ]
    },
    {
      "cell_type": "markdown",
      "metadata": {
        "id": "LtkuImDPiauJ"
      },
      "source": [
        "นางสาวเบญญาภา ระภูเขียว 623020527-6"
      ]
    },
    {
      "cell_type": "code",
      "metadata": {
        "colab": {
          "base_uri": "https://localhost:8080/"
        },
        "id": "PeShzvHkkX5F",
        "outputId": "83d53d2a-80bf-4604-8296-6b655d547183"
      },
      "source": [
        "print('เบญญาภา') #single quote (')"
      ],
      "execution_count": 1,
      "outputs": [
        {
          "output_type": "stream",
          "text": [
            "เบญญาภา\n"
          ],
          "name": "stdout"
        }
      ]
    }
  ]
}